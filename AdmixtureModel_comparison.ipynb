{
 "cells": [
  {
   "cell_type": "markdown",
   "id": "5adb665c",
   "metadata": {},
   "source": [
    "This is an implementation of the Central Limit Theorem and Bootstrap for the Linkage Model. Parts of this have been written by Ferdinand Suchanek.\n",
    "\n",
    "Tasks:\n",
    "- Compare the Bootstrap results to the Central Limit Theorem\n",
    "- Therefore: Think about a nice metric/nice way to depict the results"
   ]
  },
  {
   "cell_type": "code",
   "execution_count": 1,
   "id": "81fa175d",
   "metadata": {},
   "outputs": [
    {
     "name": "stdout",
     "output_type": "stream",
     "text": [
      "Estimation and Truth [[0.62252916 0.37747084]] [0.7 0.3]\n"
     ]
    }
   ],
   "source": [
    "from scipy.stats import dirichlet, binom, norm\n",
    "import numpy as np\n",
    "import random\n",
    "# Simulation of the Model\n",
    "# Simulate the allele frequencies\n",
    "def create_p(M, K):\n",
    "    temp = np.random.uniform(0, 1, size=(K, M))\n",
    "    return temp\n",
    "\n",
    "# Simulate the Individuals\n",
    "def create_sample_pbekannt(M, N, K, p, q):\n",
    "    N, K = q.shape\n",
    "    K, M = p.shape \n",
    "    x = np.zeros((N, M))\n",
    "    loc = np.dot(q, p)\n",
    "    for m in range(M):\n",
    "        for n in range(N):\n",
    "            x[n, m] = binom.rvs(n=2, p=loc[n, m])\n",
    "    return x  \n",
    "\n",
    "\n",
    "# MLE (method from Pfaffelhuber instead of scipy.minimize)\n",
    "def get_admixture_proportions(x, p, tol=1e-6):\n",
    "    K, M = p.shape\n",
    "    res = dirichlet.rvs(alpha=np.ones(K))\n",
    "    err = 1\n",
    "    while err > tol:\n",
    "        loc = fun2(res, p, x)\n",
    "        err = np.sum(np.abs(res - loc))\n",
    "        res = loc\n",
    "    return res\n",
    "\n",
    "def fun2(q, p, loc_x):\n",
    "    K, M = p.shape\n",
    "    E = np.zeros((K, M))\n",
    "    loc = np.dot(q, p)\n",
    "    loc[loc==0] = 1e-16\n",
    "    loc[loc==1] = 1-1e-16\n",
    "    for k in range(K):\n",
    "        E[k, :] = (loc_x * p[k, :] / loc + (2 - loc_x) * (1 - p[k, :]) / (1 - loc))\n",
    "    res = np.sum(E, axis=1) / M * q / 2\n",
    "    return res / np.sum(res)\n",
    "\n",
    "# Example Application\n",
    "# Simulate the true IAs\n",
    "N = 100 # Number of individuals\n",
    "K = 2 # Number of Populations\n",
    "# True parameter\n",
    "q_0 = np.zeros(2)\n",
    "q_0[0] = 0.7\n",
    "q_0[1] = 0.3\n",
    "q = np.zeros((N, K))\n",
    "M = 200 # Number of markers\n",
    "p = create_p(M, K)\n",
    "# Simulate the IAs\n",
    "for n in range(N):\n",
    "    q[n, :] = q_0\n",
    "\n",
    "# Rows: Individuals\n",
    "# Columns: Marker\n",
    "x = create_sample_pbekannt(M, N, K, p, q)\n",
    "\n",
    "# Find MLE\n",
    "hat_q = get_admixture_proportions(x[0], p, tol=1e-6)\n",
    "# Compare truth to estimation\n",
    "print(\"Estimation and Truth\",hat_q, q[1])"
   ]
  },
  {
   "cell_type": "markdown",
   "id": "5c9e8b03",
   "metadata": {},
   "source": [
    "# Central Limit Theorem"
   ]
  },
  {
   "cell_type": "code",
   "execution_count": 6,
   "id": "21e9e419",
   "metadata": {},
   "outputs": [],
   "source": [
    "# Implementation of the Central Limit Theorem\n",
    "def res(q0, p1):\n",
    "    K = len(q0)\n",
    "    if(min(q0) > 0):\n",
    "        theta1 = np.dot(q0, p1)\n",
    "        p1 = np.array(p1)\n",
    "        p = np.array(p1 - p1[-1])\n",
    "        p2 = np.outer(p[:-1],p[:-1])\n",
    "        if(theta1 > 0 and theta1 < 1):\n",
    "            res4 = 2*p2*(1/theta1) + 2*p2/(1-theta1)\n",
    "        else:\n",
    "            res4 = 2*p2\n",
    "    else:\n",
    "        res4 = np.zeros((K, K))\n",
    "    return res4\n",
    "\n",
    "def res_alle(M, q, p):\n",
    "    res_int = 0\n",
    "    for i in range(M):\n",
    "        res_int += res(q, p[i])\n",
    "    return np.linalg.inv(res_int/M)\n",
    "\n",
    "# Calculates the asymptotic covariance\n",
    "def cov(p_K5, q_K5, K, M):\n",
    "    M = len(p_K5)\n",
    "    N = len(q_K5)\n",
    "    v = res_alle(M, q_K5[0], p_K5)\n",
    "    for i in range(1,N):\n",
    "        v += res_alle(M, q_K5[i], p_K5)\n",
    "    cov_X5_X = -np.sum(v, axis=0)\n",
    "    var_X5 = np.sum(v)\n",
    "    C_extended = np.zeros((K, K))\n",
    "    C_extended[:(K-1), :(K-1)] = v    \n",
    "    C_extended[(K-1), :(K-1)] = cov_X5_X\n",
    "    C_extended[:(K-1), (K-1)] = cov_X5_X    \n",
    "    C_extended[(K-1), (K-1)] = var_X5  \n",
    "    \n",
    "    return C_extended/M"
   ]
  },
  {
   "cell_type": "code",
   "execution_count": 4,
   "id": "c3c98695",
   "metadata": {},
   "outputs": [],
   "source": [
    "alpha = 0.01\n",
    "hat_q = get_admixture_proportions(x[0], p, tol=1e-6)\n",
    "covmatrix_estimation_clt = cov(p.T,hat_q.tolist(),2, M)\n",
    "variance_clt = covmatrix_estimation_clt[0,0]"
   ]
  },
  {
   "cell_type": "markdown",
   "id": "8bae8e58",
   "metadata": {},
   "source": [
    "# Bootstrap"
   ]
  },
  {
   "cell_type": "code",
   "execution_count": 5,
   "id": "77bbc8c0",
   "metadata": {},
   "outputs": [],
   "source": [
    "# Numver of Bootstrap Examples\n",
    "n_bootstraps = 10\n",
    "# Index of the individual\n",
    "i = 0\n",
    "\n",
    "hat_q = get_admixture_proportions(x[i], p, tol=1e-6)\n",
    "\n",
    "q_estimation = []\n",
    "for j in range(0,n_bootstraps):\n",
    "    sample_with_replacement = [random.randint(0, M-1) for _ in range(M)]\n",
    "    x_resampled = x[i][sample_with_replacement]\n",
    "    p_resampled = p[:,sample_with_replacement]\n",
    "    hat_q_resampled = get_admixture_proportions(x_resampled, p_resampled, tol=1e-6)\n",
    "    q_estimation.append(hat_q_resampled[0][0])\n",
    "\n"
   ]
  }
 ],
 "metadata": {
  "kernelspec": {
   "display_name": "Python 3 (ipykernel)",
   "language": "python",
   "name": "python3"
  },
  "language_info": {
   "codemirror_mode": {
    "name": "ipython",
    "version": 3
   },
   "file_extension": ".py",
   "mimetype": "text/x-python",
   "name": "python",
   "nbconvert_exporter": "python",
   "pygments_lexer": "ipython3",
   "version": "3.8.3"
  }
 },
 "nbformat": 4,
 "nbformat_minor": 5
}
